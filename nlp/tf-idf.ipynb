{
 "cells": [
  {
   "cell_type": "code",
   "execution_count": 2,
   "metadata": {},
   "outputs": [
    {
     "name": "stdout",
     "output_type": "stream",
     "text": [
      "Accuracy: 0.8482490272373541\n",
      "                          precision    recall  f1-score   support\n",
      "\n",
      "             alt.atheism       0.86      0.79      0.82       236\n",
      "           comp.graphics       0.73      0.80      0.77       287\n",
      " comp.os.ms-windows.misc       0.77      0.83      0.80       290\n",
      "comp.sys.ibm.pc.hardware       0.64      0.80      0.71       285\n",
      "   comp.sys.mac.hardware       0.89      0.78      0.83       312\n",
      "          comp.windows.x       0.92      0.83      0.87       308\n",
      "            misc.forsale       0.86      0.74      0.79       276\n",
      "               rec.autos       0.90      0.93      0.91       304\n",
      "         rec.motorcycles       0.92      0.93      0.92       279\n",
      "      rec.sport.baseball       0.96      0.94      0.95       308\n",
      "        rec.sport.hockey       0.91      0.96      0.94       309\n",
      "               sci.crypt       0.93      0.96      0.94       290\n",
      "         sci.electronics       0.85      0.75      0.80       304\n",
      "                 sci.med       0.95      0.90      0.93       300\n",
      "               sci.space       0.90      0.95      0.92       297\n",
      "  soc.religion.christian       0.63      0.99      0.77       292\n",
      "      talk.politics.guns       0.79      0.96      0.87       270\n",
      "   talk.politics.mideast       0.95      0.96      0.96       272\n",
      "      talk.politics.misc       0.98      0.67      0.80       239\n",
      "      talk.religion.misc       0.96      0.26      0.41       196\n",
      "\n",
      "                accuracy                           0.85      5654\n",
      "               macro avg       0.87      0.84      0.84      5654\n",
      "            weighted avg       0.86      0.85      0.84      5654\n",
      "\n"
     ]
    }
   ],
   "source": [
    "from sklearn.datasets import fetch_20newsgroups\n",
    "from sklearn.feature_extraction.text import TfidfVectorizer\n",
    "from sklearn.naive_bayes import MultinomialNB\n",
    "from sklearn.model_selection import train_test_split\n",
    "from sklearn.metrics import classification_report, accuracy_score\n",
    "\n",
    "# 1. 加载数据\n",
    "newsgroups = fetch_20newsgroups(data_home=\"./data\",subset='all')\n",
    "X, y = newsgroups.data, newsgroups.target\n",
    "\n",
    "# 2. 数据预处理（TF-IDF）\n",
    "vectorizer = TfidfVectorizer(max_features=10000, stop_words='english')\n",
    "X_tfidf = vectorizer.fit_transform(X)\n",
    "\n",
    "# 将数据集分为训练集和测试集\n",
    "X_train, X_test, y_train, y_test = train_test_split(X_tfidf, y, test_size=0.3, random_state=42)\n",
    "\n",
    "# 3. 训练 Naive Bayes 分类器\n",
    "clf = MultinomialNB()\n",
    "clf.fit(X_train, y_train)\n",
    "\n",
    "# 4. 评估模型\n",
    "y_pred = clf.predict(X_test)\n",
    "\n",
    "print(\"Accuracy:\", accuracy_score(y_test, y_pred))\n",
    "print(classification_report(y_test, y_pred, target_names=newsgroups.target_names))"
   ]
  },
  {
   "cell_type": "code",
   "execution_count": 15,
   "metadata": {},
   "outputs": [
    {
     "data": {
      "text/plain": [
       "(10000,)"
      ]
     },
     "execution_count": 15,
     "metadata": {},
     "output_type": "execute_result"
    }
   ],
   "source": [
    "X_tfidf.toarray()[0].shape"
   ]
  },
  {
   "cell_type": "code",
   "execution_count": null,
   "metadata": {},
   "outputs": [],
   "source": []
  }
 ],
 "metadata": {
  "kernelspec": {
   "display_name": "t1",
   "language": "python",
   "name": "python3"
  },
  "language_info": {
   "codemirror_mode": {
    "name": "ipython",
    "version": 3
   },
   "file_extension": ".py",
   "mimetype": "text/x-python",
   "name": "python",
   "nbconvert_exporter": "python",
   "pygments_lexer": "ipython3",
   "version": "3.12.2"
  }
 },
 "nbformat": 4,
 "nbformat_minor": 2
}

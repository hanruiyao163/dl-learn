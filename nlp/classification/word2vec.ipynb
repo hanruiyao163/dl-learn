{
 "cells": [
  {
   "cell_type": "code",
   "execution_count": 1,
   "metadata": {},
   "outputs": [],
   "source": [
    "import spacy\n",
    "import seaborn as sns\n",
    "import matplotlib.pyplot as plt\n",
    "import numpy as np"
   ]
  },
  {
   "cell_type": "markdown",
   "metadata": {},
   "source": [
    "# Embedding"
   ]
  },
  {
   "cell_type": "code",
   "execution_count": 3,
   "metadata": {},
   "outputs": [],
   "source": [
    "nlp = spacy.load('en_core_web_lg')"
   ]
  },
  {
   "cell_type": "code",
   "execution_count": 4,
   "metadata": {},
   "outputs": [
    {
     "data": {
      "text/plain": [
       "0.610884428024292"
      ]
     },
     "execution_count": 4,
     "metadata": {},
     "output_type": "execute_result"
    }
   ],
   "source": [
    "nlp.vocab[\"king\"].similarity(nlp.vocab[\"queen\"])"
   ]
  },
  {
   "cell_type": "code",
   "execution_count": 5,
   "metadata": {},
   "outputs": [],
   "source": [
    "king_vec = nlp.vocab[\"king\"].vector\n",
    "queen_vec = nlp.vocab[\"queen\"].vector\n",
    "man_vec = nlp.vocab[\"man\"].vector\n",
    "woman_vec = nlp.vocab[\"women\"].vector"
   ]
  },
  {
   "cell_type": "code",
   "execution_count": 6,
   "metadata": {},
   "outputs": [
    {
     "data": {
      "text/plain": [
       "<Axes: >"
      ]
     },
     "execution_count": 6,
     "metadata": {},
     "output_type": "execute_result"
    },
    {
     "data": {
      "image/png": "[encoded data removed]",
      "text/plain": [
       "<Figure size 1500x100 with 1 Axes>"
      ]
     },
     "metadata": {},
     "output_type": "display_data"
    }
   ],
   "source": [
    "plt.figure(figsize=(15,1))\n",
    "sns.heatmap([king_vec], xticklabels=False, yticklabels=False, cbar=False,\n",
    "            vmin=-2, vmax=2, linewidths=0.7)\n",
    "# plt.show()"
   ]
  },
  {
   "cell_type": "code",
   "execution_count": 7,
   "metadata": {},
   "outputs": [
    {
     "data": {
      "text/plain": [
       "<Axes: >"
      ]
     },
     "execution_count": 7,
     "metadata": {},
     "output_type": "execute_result"
    },
    {
     "data": {
      "image/png": "[encoded data removed]",
      "text/plain": [
       "<Figure size 1500x300 with 1 Axes>"
      ]
     },
     "metadata": {},
     "output_type": "display_data"
    }
   ],
   "source": [
    "plt.figure(figsize=(15,3))\n",
    "sns.heatmap([king_vec, queen_vec, king_vec-man_vec+woman_vec], xticklabels=False, yticklabels=False, cbar=False,\n",
    "            vmin=-2, vmax=2, linewidths=0.7)"
   ]
  },
  {
   "cell_type": "markdown",
   "metadata": {},
   "source": [
    "# Classification"
   ]
  },
  {
   "cell_type": "code",
   "execution_count": 27,
   "metadata": {},
   "outputs": [],
   "source": [
    "from sklearn.datasets import fetch_20newsgroups\n",
    "from sklearn.feature_extraction.text import CountVectorizer\n",
    "from sklearn.naive_bayes import MultinomialNB\n",
    "from sklearn.linear_model import LogisticRegression\n",
    "from sklearn.model_selection import train_test_split\n",
    "from sklearn.metrics import classification_report, accuracy_score"
   ]
  },
  {
   "cell_type": "code",
   "execution_count": 10,
   "metadata": {},
   "outputs": [],
   "source": [
    "dataset = fetch_20newsgroups(data_home=\"./data\", subset=\"all\")"
   ]
  },
  {
   "cell_type": "code",
   "execution_count": 11,
   "metadata": {},
   "outputs": [],
   "source": [
    "X, y = dataset.data, dataset.target"
   ]
  },
  {
   "cell_type": "code",
   "execution_count": 12,
   "metadata": {},
   "outputs": [],
   "source": [
    "X_train, X_test, y_train, y_test = train_test_split(X, y, test_size=0.2, random_state=42)"
   ]
  },
  {
   "cell_type": "code",
   "execution_count": 13,
   "metadata": {},
   "outputs": [
    {
     "name": "stdout",
     "output_type": "stream",
     "text": [
      "Word: Apple  --> Apple\n",
      "Word: is  --> be\n",
      "Word: looking  --> look\n",
      "Word: at  --> at\n",
      "Word: buying  --> buy\n",
      "Word: U.K.  --> U.K.\n",
      "Word: startup  --> startup\n",
      "Word: for  --> for\n",
      "Word: $  --> $\n",
      "Word: 1  --> 1\n",
      "Word: billion  --> billion\n"
     ]
    }
   ],
   "source": [
    "for token in  nlp(\"Apple is looking at buying U.K. startup for $1 billion\"):\n",
    "  print('Word: {}  --> {}'.format(token.text, token.lemma_))"
   ]
  },
  {
   "cell_type": "code",
   "execution_count": 19,
   "metadata": {},
   "outputs": [],
   "source": [
    "def get_text_vectors(docs):\n",
    "    vectors = []\n",
    "    for doc in nlp.pipe(docs, batch_size=500):\n",
    "        vectors.append(doc.vector)\n",
    "    return np.array(vectors)"
   ]
  },
  {
   "cell_type": "code",
   "execution_count": 20,
   "metadata": {},
   "outputs": [],
   "source": [
    "X_train_vec = get_text_vectors(X_train)\n",
    "X_test_vec = get_text_vectors(X_test)"
   ]
  },
  {
   "cell_type": "code",
   "execution_count": 29,
   "metadata": {},
   "outputs": [
    {
     "name": "stdout",
     "output_type": "stream",
     "text": [
      "Accuracy: 0.746684350132626\n"
     ]
    }
   ],
   "source": [
    "model = LogisticRegression(max_iter=1000)\n",
    "model.fit(X_train_vec, y_train)\n",
    "\n",
    "y_pred = model.predict(X_test_vec)\n",
    "print(\"Accuracy:\", accuracy_score(y_test, y_pred))"
   ]
  },
  {
   "cell_type": "code",
   "execution_count": 46,
   "metadata": {},
   "outputs": [
    {
     "name": "stdout",
     "output_type": "stream",
     "text": [
      "Epoch [1/100], Loss: 2.9599\n",
      "Validation Loss: 2.9083\n",
      "Epoch [2/100], Loss: 2.8030\n",
      "Validation Loss: 2.6843\n",
      "Epoch [3/100], Loss: 2.5273\n",
      "Validation Loss: 2.4019\n",
      "Epoch [4/100], Loss: 2.2756\n",
      "Validation Loss: 2.1943\n",
      "Epoch [5/100], Loss: 2.1018\n",
      "Validation Loss: 2.0414\n",
      "Epoch [6/100], Loss: 1.9655\n",
      "Validation Loss: 1.9269\n",
      "Epoch [7/100], Loss: 1.8588\n",
      "Validation Loss: 1.8349\n",
      "Epoch [8/100], Loss: 1.7664\n",
      "Validation Loss: 1.7564\n",
      "Epoch [9/100], Loss: 1.6890\n",
      "Validation Loss: 1.6862\n",
      "Epoch [10/100], Loss: 1.6216\n",
      "Validation Loss: 1.6305\n",
      "Epoch [11/100], Loss: 1.5645\n",
      "Validation Loss: 1.5811\n",
      "Epoch [12/100], Loss: 1.5150\n",
      "Validation Loss: 1.5372\n",
      "Epoch [13/100], Loss: 1.4666\n",
      "Validation Loss: 1.4999\n",
      "Epoch [14/100], Loss: 1.4313\n",
      "Validation Loss: 1.4683\n",
      "Epoch [15/100], Loss: 1.3952\n",
      "Validation Loss: 1.4368\n",
      "Epoch [16/100], Loss: 1.3599\n",
      "Validation Loss: 1.4088\n",
      "Epoch [17/100], Loss: 1.3307\n",
      "Validation Loss: 1.3797\n",
      "Epoch [18/100], Loss: 1.3014\n",
      "Validation Loss: 1.3565\n",
      "Epoch [19/100], Loss: 1.2799\n",
      "Validation Loss: 1.3370\n",
      "Epoch [20/100], Loss: 1.2581\n",
      "Validation Loss: 1.3164\n",
      "Epoch [21/100], Loss: 1.2281\n",
      "Validation Loss: 1.2983\n",
      "Epoch [22/100], Loss: 1.2112\n",
      "Validation Loss: 1.2802\n",
      "Epoch [23/100], Loss: 1.1944\n",
      "Validation Loss: 1.2634\n",
      "Epoch [24/100], Loss: 1.1749\n",
      "Validation Loss: 1.2503\n",
      "Epoch [25/100], Loss: 1.1598\n",
      "Validation Loss: 1.2340\n",
      "Epoch [26/100], Loss: 1.1426\n",
      "Validation Loss: 1.2164\n",
      "Epoch [27/100], Loss: 1.1257\n",
      "Validation Loss: 1.2061\n",
      "Epoch [28/100], Loss: 1.1091\n",
      "Validation Loss: 1.1977\n",
      "Epoch [29/100], Loss: 1.0990\n",
      "Validation Loss: 1.1856\n",
      "Epoch [30/100], Loss: 1.0818\n",
      "Validation Loss: 1.1731\n",
      "Epoch [31/100], Loss: 1.0703\n",
      "Validation Loss: 1.1618\n",
      "Epoch [32/100], Loss: 1.0580\n",
      "Validation Loss: 1.1514\n",
      "Epoch [33/100], Loss: 1.0492\n",
      "Validation Loss: 1.1402\n",
      "Epoch [34/100], Loss: 1.0348\n",
      "Validation Loss: 1.1302\n",
      "Epoch [35/100], Loss: 1.0229\n",
      "Validation Loss: 1.1234\n",
      "Epoch [36/100], Loss: 1.0141\n",
      "Validation Loss: 1.1210\n",
      "Epoch [37/100], Loss: 1.0031\n",
      "Validation Loss: 1.1131\n",
      "Epoch [38/100], Loss: 0.9941\n",
      "Validation Loss: 1.0991\n",
      "Epoch [39/100], Loss: 0.9864\n",
      "Validation Loss: 1.1034\n",
      "Epoch [40/100], Loss: 0.9762\n",
      "Validation Loss: 1.0854\n",
      "Epoch [41/100], Loss: 0.9621\n",
      "Validation Loss: 1.0828\n",
      "Epoch [42/100], Loss: 0.9555\n",
      "Validation Loss: 1.0688\n",
      "Epoch [43/100], Loss: 0.9462\n",
      "Validation Loss: 1.0692\n",
      "Epoch [44/100], Loss: 0.9415\n",
      "Validation Loss: 1.0666\n",
      "Epoch [45/100], Loss: 0.9342\n",
      "Validation Loss: 1.0512\n",
      "Epoch [46/100], Loss: 0.9176\n",
      "Validation Loss: 1.0457\n",
      "Epoch [47/100], Loss: 0.9165\n",
      "Validation Loss: 1.0451\n",
      "Epoch [48/100], Loss: 0.9073\n",
      "Validation Loss: 1.0391\n",
      "Epoch [49/100], Loss: 0.9017\n",
      "Validation Loss: 1.0320\n",
      "Epoch [50/100], Loss: 0.8928\n",
      "Validation Loss: 1.0273\n",
      "Epoch [51/100], Loss: 0.8858\n",
      "Validation Loss: 1.0238\n",
      "Epoch [52/100], Loss: 0.8801\n",
      "Validation Loss: 1.0207\n",
      "Epoch [53/100], Loss: 0.8721\n",
      "Validation Loss: 1.0171\n",
      "Epoch [54/100], Loss: 0.8665\n",
      "Validation Loss: 1.0050\n",
      "Epoch [55/100], Loss: 0.8558\n",
      "Validation Loss: 1.0017\n",
      "Epoch [56/100], Loss: 0.8541\n",
      "Validation Loss: 1.0042\n",
      "Epoch [57/100], Loss: 0.8464\n",
      "Validation Loss: 1.0009\n",
      "Epoch [58/100], Loss: 0.8429\n",
      "Validation Loss: 0.9929\n",
      "Epoch [59/100], Loss: 0.8376\n",
      "Validation Loss: 0.9845\n",
      "Epoch [60/100], Loss: 0.8313\n",
      "Validation Loss: 0.9877\n",
      "Epoch [61/100], Loss: 0.8247\n",
      "Validation Loss: 0.9817\n",
      "Epoch [62/100], Loss: 0.8167\n",
      "Validation Loss: 0.9737\n",
      "Epoch [63/100], Loss: 0.8129\n",
      "Validation Loss: 0.9814\n",
      "Epoch [64/100], Loss: 0.8079\n",
      "Validation Loss: 0.9756\n",
      "Epoch [65/100], Loss: 0.8039\n",
      "Validation Loss: 0.9686\n",
      "Epoch [66/100], Loss: 0.7966\n",
      "Validation Loss: 0.9753\n",
      "Epoch [67/100], Loss: 0.7937\n",
      "Validation Loss: 0.9604\n",
      "Epoch [68/100], Loss: 0.7902\n",
      "Validation Loss: 0.9630\n",
      "Epoch [69/100], Loss: 0.7834\n",
      "Validation Loss: 0.9581\n",
      "Epoch [70/100], Loss: 0.7836\n",
      "Validation Loss: 0.9559\n",
      "Epoch [71/100], Loss: 0.7711\n",
      "Validation Loss: 0.9502\n",
      "Epoch [72/100], Loss: 0.7697\n",
      "Validation Loss: 0.9451\n",
      "Epoch [73/100], Loss: 0.7639\n",
      "Validation Loss: 0.9475\n",
      "Epoch [74/100], Loss: 0.7545\n",
      "Validation Loss: 0.9469\n",
      "Epoch [75/100], Loss: 0.7529\n",
      "Validation Loss: 0.9403\n",
      "Epoch [76/100], Loss: 0.7547\n",
      "Validation Loss: 0.9452\n",
      "Epoch [77/100], Loss: 0.7490\n",
      "Validation Loss: 0.9386\n",
      "Epoch [78/100], Loss: 0.7432\n",
      "Validation Loss: 0.9340\n",
      "Epoch [79/100], Loss: 0.7412\n",
      "Validation Loss: 0.9317\n",
      "Epoch [80/100], Loss: 0.7366\n",
      "Validation Loss: 0.9344\n",
      "Epoch [81/100], Loss: 0.7289\n",
      "Validation Loss: 0.9344\n",
      "Epoch [82/100], Loss: 0.7257\n",
      "Validation Loss: 0.9271\n",
      "Epoch [83/100], Loss: 0.7231\n",
      "Validation Loss: 0.9232\n",
      "Epoch [84/100], Loss: 0.7206\n",
      "Validation Loss: 0.9221\n",
      "Epoch [85/100], Loss: 0.7115\n",
      "Validation Loss: 0.9239\n",
      "Epoch [86/100], Loss: 0.7104\n",
      "Validation Loss: 0.9184\n",
      "Epoch [87/100], Loss: 0.7057\n",
      "Validation Loss: 0.9275\n",
      "Epoch [88/100], Loss: 0.7051\n",
      "Validation Loss: 0.9199\n",
      "Epoch [89/100], Loss: 0.6975\n",
      "Validation Loss: 0.9113\n",
      "Epoch [90/100], Loss: 0.6953\n",
      "Validation Loss: 0.9161\n",
      "Epoch [91/100], Loss: 0.6881\n",
      "Validation Loss: 0.9207\n",
      "Epoch [92/100], Loss: 0.6915\n",
      "Validation Loss: 0.9066\n",
      "Epoch [93/100], Loss: 0.6892\n",
      "Validation Loss: 0.9184\n",
      "Epoch [94/100], Loss: 0.6833\n",
      "Validation Loss: 0.9177\n",
      "Epoch [95/100], Loss: 0.6799\n",
      "Validation Loss: 0.9096\n",
      "Epoch [96/100], Loss: 0.6721\n",
      "Validation Loss: 0.9080\n",
      "Epoch [97/100], Loss: 0.6705\n",
      "Validation Loss: 0.9080\n",
      "Epoch [98/100], Loss: 0.6726\n",
      "Validation Loss: 0.9060\n",
      "Epoch [99/100], Loss: 0.6698\n",
      "Validation Loss: 0.8999\n",
      "Epoch [100/100], Loss: 0.6600\n",
      "Validation Loss: 0.9021\n",
      "Test Accuracy: 0.7016\n"
     ]
    }
   ],
   "source": [
    "import torch\n",
    "import torch.nn as nn\n",
    "import torch.optim as optim\n",
    "from torch.utils.data import DataLoader, TensorDataset, random_split\n",
    "\n",
    "X_train_tensor = torch.tensor(X_train_vec, dtype=torch.float32)\n",
    "y_train_tensor = torch.tensor(y_train, dtype=torch.long)\n",
    "X_test_tensor = torch.tensor(X_test_vec, dtype=torch.float32)\n",
    "y_test_tensor = torch.tensor(y_test, dtype=torch.long)\n",
    "\n",
    "# 创建数据集和数据加载器\n",
    "train_dataset = TensorDataset(X_train_tensor, y_train_tensor)\n",
    "test_dataset = TensorDataset(X_test_tensor, y_test_tensor)\n",
    "\n",
    "# 划分训练集和验证集\n",
    "train_size = int(0.8 * len(train_dataset))\n",
    "val_size = len(train_dataset) - train_size\n",
    "train_dataset, val_dataset = random_split(train_dataset, [train_size, val_size])\n",
    "\n",
    "train_loader = DataLoader(train_dataset, batch_size=128, shuffle=True)\n",
    "val_loader = DataLoader(val_dataset, batch_size=128, shuffle=False)\n",
    "test_loader = DataLoader(test_dataset, batch_size=128, shuffle=False)\n",
    "\n",
    "# 定义模型\n",
    "class TextClassifier(nn.Module):\n",
    "    def __init__(self, input_dim, hidden_dim, output_dim, n_layers=2):\n",
    "        super(TextClassifier, self).__init__()\n",
    "        self.n_layers = n_layers\n",
    "        self.gru = nn.GRU(input_dim, hidden_dim, num_layers=n_layers, batch_first=True)\n",
    "        self.fc = nn.Linear(hidden_dim, output_dim)\n",
    "\n",
    "\n",
    "    def forward(self, x):\n",
    "        x = x.unsqueeze(1)  # 增加一维，作为序列长度\n",
    "        h0 = torch.zeros(self.n_layers, x.size(0), hidden_dim).to(x.device)  # 初始隐藏状态\n",
    "        out, _ = self.gru(x, h0)  # GRU 输出\n",
    "        out = self.fc(out[:, -1, :])  # 全连接层 只取最后一个时间步的输出\n",
    "        return out\n",
    "\n",
    "\n",
    "# 初始化模型、损失函数和优化器\n",
    "input_dim = X_train_vec.shape[1]\n",
    "hidden_dim = 128\n",
    "output_dim = 20  # 20 个类别\n",
    "model = TextClassifier(input_dim, hidden_dim, output_dim)\n",
    "\n",
    "criterion = nn.CrossEntropyLoss()\n",
    "optimizer = optim.Adam(model.parameters(), lr=0.0001)\n",
    "\n",
    "# 训练模型\n",
    "num_epochs = 100\n",
    "\n",
    "for epoch in range(num_epochs):\n",
    "    model.train()\n",
    "    running_loss = 0.0\n",
    "    for inputs, labels in train_loader:\n",
    "        optimizer.zero_grad()\n",
    "        outputs = model(inputs)\n",
    "        loss = criterion(outputs, labels)\n",
    "        loss.backward()\n",
    "        optimizer.step()\n",
    "        running_loss += loss.item()\n",
    "    print(f'Epoch [{epoch+1}/{num_epochs}], Loss: {running_loss/len(train_loader):.4f}')\n",
    "\n",
    "    # 验证模型\n",
    "    model.eval()\n",
    "    val_loss = 0.0\n",
    "    with torch.no_grad():\n",
    "        for inputs, labels in val_loader:\n",
    "            outputs = model(inputs)\n",
    "            loss = criterion(outputs, labels)\n",
    "            val_loss += loss.item()\n",
    "    print(f'Validation Loss: {val_loss/len(val_loader):.4f}')\n",
    "\n",
    "\n",
    "# 评估模型\n",
    "model.eval()\n",
    "correct = 0\n",
    "total = 0\n",
    "with torch.no_grad():\n",
    "    for inputs, labels in test_loader:\n",
    "        outputs = model(inputs)\n",
    "        _, predicted = torch.max(outputs.data, 1)\n",
    "        total += labels.size(0)\n",
    "        correct += (predicted == labels).sum().item()\n",
    "\n",
    "accuracy = correct / total\n",
    "print(f'Test Accuracy: {accuracy:.4f}')"
   ]
  },
  {
   "cell_type": "code",
   "execution_count": null,
   "metadata": {},
   "outputs": [],
   "source": []
  }
 ],
 "metadata": {
  "kernelspec": {
   "display_name": "t1",
   "language": "python",
   "name": "python3"
  },
  "language_info": {
   "codemirror_mode": {
    "name": "ipython",
    "version": 3
   },
   "file_extension": ".py",
   "mimetype": "text/x-python",
   "name": "python",
   "nbconvert_exporter": "python",
   "pygments_lexer": "ipython3",
   "version": "3.12.2"
  }
 },
 "nbformat": 4,
 "nbformat_minor": 2
}

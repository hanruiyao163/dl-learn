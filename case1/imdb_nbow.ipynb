{
 "cells": [
  {
   "cell_type": "code",
   "execution_count": 1,
   "metadata": {},
   "outputs": [],
   "source": [
    "import collections\n",
    "import os\n",
    "import datasets\n",
    "import matplotlib.pyplot as plt\n",
    "import numpy as np\n",
    "import torch\n",
    "import torch.nn as nn\n",
    "import torch.optim as optim\n",
    "import spacy\n",
    "import tqdm\n",
    "\n",
    "os.environ[\"HF_DATASETS_CACHE\"] = r\"./data\""
   ]
  },
  {
   "cell_type": "code",
   "execution_count": 2,
   "metadata": {},
   "outputs": [
    {
     "data": {
      "application/vnd.jupyter.widget-view+json": {
       "model_id": "c5bda4c278ac44ac8214d828d585754b",
       "version_major": 2,
       "version_minor": 0
      },
      "text/plain": [
       "Downloading readme:   0%|          | 0.00/7.81k [00:00<?, ?B/s]"
      ]
     },
     "metadata": {},
     "output_type": "display_data"
    },
    {
     "data": {
      "application/vnd.jupyter.widget-view+json": {
       "model_id": "1ba775833e62438da034c57ca37c4cb5",
       "version_major": 2,
       "version_minor": 0
      },
      "text/plain": [
       "Downloading data:   0%|          | 0.00/21.0M [00:00<?, ?B/s]"
      ]
     },
     "metadata": {},
     "output_type": "display_data"
    },
    {
     "data": {
      "application/vnd.jupyter.widget-view+json": {
       "model_id": "e52eba5323e24402b24903bb75f7456c",
       "version_major": 2,
       "version_minor": 0
      },
      "text/plain": [
       "Downloading data:   0%|          | 0.00/20.5M [00:00<?, ?B/s]"
      ]
     },
     "metadata": {},
     "output_type": "display_data"
    },
    {
     "data": {
      "application/vnd.jupyter.widget-view+json": {
       "model_id": "a361cc8a10d64f528e16c80cbff10eca",
       "version_major": 2,
       "version_minor": 0
      },
      "text/plain": [
       "Downloading data:   0%|          | 0.00/42.0M [00:00<?, ?B/s]"
      ]
     },
     "metadata": {},
     "output_type": "display_data"
    },
    {
     "data": {
      "application/vnd.jupyter.widget-view+json": {
       "model_id": "bd85d3080a324254838a46fe297d3c40",
       "version_major": 2,
       "version_minor": 0
      },
      "text/plain": [
       "Generating train split:   0%|          | 0/25000 [00:00<?, ? examples/s]"
      ]
     },
     "metadata": {},
     "output_type": "display_data"
    },
    {
     "data": {
      "application/vnd.jupyter.widget-view+json": {
       "model_id": "936347c6464d4ac2a1ae58d9d92668c8",
       "version_major": 2,
       "version_minor": 0
      },
      "text/plain": [
       "Generating test split:   0%|          | 0/25000 [00:00<?, ? examples/s]"
      ]
     },
     "metadata": {},
     "output_type": "display_data"
    },
    {
     "data": {
      "application/vnd.jupyter.widget-view+json": {
       "model_id": "3e94b97dc3a74773beef8abc712b3806",
       "version_major": 2,
       "version_minor": 0
      },
      "text/plain": [
       "Generating unsupervised split:   0%|          | 0/50000 [00:00<?, ? examples/s]"
      ]
     },
     "metadata": {},
     "output_type": "display_data"
    }
   ],
   "source": [
    "train_data, test_data = datasets.load_dataset(\"imdb\", split=[\"train\", \"test\"], cache_dir=\"./data\")"
   ]
  },
  {
   "cell_type": "code",
   "execution_count": 3,
   "metadata": {},
   "outputs": [
    {
     "data": {
      "text/plain": [
       "(Dataset({\n",
       "     features: ['text', 'label'],\n",
       "     num_rows: 25000\n",
       " }),\n",
       " {'text': Value(dtype='string', id=None),\n",
       "  'label': ClassLabel(names=['neg', 'pos'], id=None)})"
      ]
     },
     "execution_count": 3,
     "metadata": {},
     "output_type": "execute_result"
    }
   ],
   "source": [
    "train_data, train_data.features"
   ]
  },
  {
   "cell_type": "code",
   "execution_count": 4,
   "metadata": {},
   "outputs": [],
   "source": [
    "train_data = train_data.select(range(5000))\n",
    "test_data = test_data.select(range(5000))"
   ]
  },
  {
   "cell_type": "code",
   "execution_count": 7,
   "metadata": {},
   "outputs": [],
   "source": [
    "nlp = spacy.load(\"en_core_web_sm\")\n",
    "\n",
    "def tokenize_text(data, tokenizer, max_length):\n",
    "    tokens = [token.text for token in tokenizer(data[\"text\"])][:max_length]\n",
    "    return {\"tokens\": tokens}"
   ]
  },
  {
   "cell_type": "code",
   "execution_count": 8,
   "metadata": {},
   "outputs": [
    {
     "data": {
      "application/vnd.jupyter.widget-view+json": {
       "model_id": "a68c0920d9864499949089bb02efecc9",
       "version_major": 2,
       "version_minor": 0
      },
      "text/plain": [
       "Map:   0%|          | 0/5000 [00:00<?, ? examples/s]"
      ]
     },
     "metadata": {},
     "output_type": "display_data"
    },
    {
     "data": {
      "application/vnd.jupyter.widget-view+json": {
       "model_id": "d7154450ca1847538b47f4d6e01512af",
       "version_major": 2,
       "version_minor": 0
      },
      "text/plain": [
       "Map:   0%|          | 0/5000 [00:00<?, ? examples/s]"
      ]
     },
     "metadata": {},
     "output_type": "display_data"
    }
   ],
   "source": [
    "max_length = 256\n",
    "\n",
    "train_data = train_data.map(\n",
    "    tokenize_text, fn_kwargs={\"tokenizer\": nlp, \"max_length\": max_length}\n",
    ")\n",
    "test_data = test_data.map(\n",
    "    tokenize_text, fn_kwargs={\"tokenizer\": nlp, \"max_length\": max_length}\n",
    ")"
   ]
  },
  {
   "cell_type": "code",
   "execution_count": 9,
   "metadata": {},
   "outputs": [],
   "source": [
    "train_valid_data = train_data.train_test_split(test_size=0.2)\n",
    "train_data = train_valid_data[\"train\"]\n",
    "valid_data = train_valid_data[\"test\"]"
   ]
  },
  {
   "cell_type": "code",
   "execution_count": 10,
   "metadata": {},
   "outputs": [],
   "source": [
    "from spacy.vocab import Vocab\n",
    "\n",
    "vocab = Vocab(strings=[\"hello\", \"world\"])"
   ]
  },
  {
   "cell_type": "code",
   "execution_count": 15,
   "metadata": {},
   "outputs": [
    {
     "name": "stdout",
     "output_type": "stream",
     "text": [
      "Word to Index:\n",
      "Word 'this' is mapped to index 1995909169258310477\n",
      "Word 'is' is mapped to index 3411606890003347522\n",
      "Word 'a' is mapped to index 11901859001352538922\n",
      "Word 'sample' is mapped to index 10528961229637103608\n",
      "Word 'sentence' is mapped to index 18108853898452662235\n",
      "Word 'another' is mapped to index 7270490914741406701\n",
      "Word 'example' is mapped to index 899618643364689362\n",
      "\n",
      "Index to Word:\n",
      "Index 1995909169258310477 is mapped to word 'this'\n",
      "Index 3411606890003347522 is mapped to word 'is'\n",
      "Index 11901859001352538922 is mapped to word 'a'\n",
      "Index 10528961229637103608 is mapped to word 'sample'\n",
      "Index 18108853898452662235 is mapped to word 'sentence'\n",
      "Index 7270490914741406701 is mapped to word 'another'\n",
      "Index 899618643364689362 is mapped to word 'example'\n"
     ]
    }
   ],
   "source": [
    "import spacy\n",
    "from spacy.vocab import Vocab\n",
    "from spacy.strings import StringStore\n",
    "\n",
    "# 初始化 spaCy 的 Vocab 类\n",
    "vocab = Vocab()\n",
    "\n",
    "# 示例 token 列表\n",
    "tokens = [\"this\", \"is\", \"a\", \"sample\", \"sentence\", \"another\", \"example\"]\n",
    "\n",
    "# 将 token 添加到 Vocab 中\n",
    "for token in tokens:\n",
    "    _ = vocab.strings.add(token)  # 将词汇添加到 Vocab 中\n",
    "\n",
    "# 使用 Vocab 类的 strings 属性来实现 word to index 和 index to word 映射\n",
    "string_store = vocab.strings\n",
    "\n",
    "# 打印词汇表\n",
    "print(\"Word to Index:\")\n",
    "for token in tokens:\n",
    "    print(f\"Word '{token}' is mapped to index {string_store[token]}\")\n",
    "\n",
    "print(\"\\nIndex to Word:\")\n",
    "for token in tokens:\n",
    "    index = string_store[token]\n",
    "    print(f\"Index {index} is mapped to word '{string_store[index]}'\")"
   ]
  },
  {
   "cell_type": "code",
   "execution_count": null,
   "metadata": {},
   "outputs": [],
   "source": []
  }
 ],
 "metadata": {
  "kernelspec": {
   "display_name": "t1",
   "language": "python",
   "name": "python3"
  },
  "language_info": {
   "codemirror_mode": {
    "name": "ipython",
    "version": 3
   },
   "file_extension": ".py",
   "mimetype": "text/x-python",
   "name": "python",
   "nbconvert_exporter": "python",
   "pygments_lexer": "ipython3",
   "version": "3.12.2"
  }
 },
 "nbformat": 4,
 "nbformat_minor": 2
}

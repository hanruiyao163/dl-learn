{
 "cells": [
  {
   "cell_type": "code",
   "execution_count": 1,
   "metadata": {},
   "outputs": [],
   "source": [
    "import torch\n",
    "import torchvision\n",
    "import numpy as np"
   ]
  },
  {
   "cell_type": "code",
   "execution_count": 3,
   "metadata": {},
   "outputs": [
    {
     "name": "stdout",
     "output_type": "stream",
     "text": [
      "tensor([[ 0.7057, -0.5107,  0.2513],\n",
      "        [ 0.7686,  1.4470, -0.9912],\n",
      "        [ 1.5170,  0.1084, -0.1893]])\n"
     ]
    },
    {
     "data": {
      "text/plain": [
       "torch.return_types.sort(\n",
       "values=tensor([[-0.5107,  0.2513,  0.7057],\n",
       "        [-0.9912,  0.7686,  1.4470],\n",
       "        [-0.1893,  0.1084,  1.5170]]),\n",
       "indices=tensor([[1, 2, 0],\n",
       "        [2, 0, 1],\n",
       "        [2, 1, 0]]))"
      ]
     },
     "execution_count": 3,
     "metadata": {},
     "output_type": "execute_result"
    }
   ],
   "source": [
    "x = torch.randn(3,3)\n",
    "print(x)\n",
    "x.sort()"
   ]
  },
  {
   "cell_type": "code",
   "execution_count": 7,
   "metadata": {},
   "outputs": [
    {
     "name": "stdout",
     "output_type": "stream",
     "text": [
      "2\n",
      "3\n"
     ]
    }
   ],
   "source": [
    "aspect_ratios = [\n",
    "    [2],\n",
    "    [2, 3],\n",
    "    [2, 3],\n",
    "    [2, 3],\n",
    "    [2],\n",
    "    [2],\n",
    "]\n",
    "idx = 2\n",
    "all_sizes = []\n",
    "scale1 = 1\n",
    "for alpha in aspect_ratios[idx]:\n",
    "    print(alpha)\n",
    "    w = scale1 * np.sqrt(alpha)\n",
    "    h = scale1 / np.sqrt(alpha)\n",
    "    all_sizes.append((w, h))\n",
    "    all_sizes.append((h, w))"
   ]
  },
  {
   "cell_type": "code",
   "execution_count": 6,
   "metadata": {},
   "outputs": [
    {
     "data": {
      "text/plain": [
       "[(1.4142135623730951, 0.7071067811865475),\n",
       " (0.7071067811865475, 1.4142135623730951),\n",
       " (1.7320508075688772, 0.5773502691896258),\n",
       " (0.5773502691896258, 1.7320508075688772)]"
      ]
     },
     "execution_count": 6,
     "metadata": {},
     "output_type": "execute_result"
    }
   ],
   "source": [
    "all_sizes"
   ]
  }
 ],
 "metadata": {
  "kernelspec": {
   "display_name": "t1",
   "language": "python",
   "name": "python3"
  },
  "language_info": {
   "codemirror_mode": {
    "name": "ipython",
    "version": 3
   },
   "file_extension": ".py",
   "mimetype": "text/x-python",
   "name": "python",
   "nbconvert_exporter": "python",
   "pygments_lexer": "ipython3",
   "version": "3.12.2"
  }
 },
 "nbformat": 4,
 "nbformat_minor": 2
}
